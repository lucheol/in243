{
 "cells": [
  {
   "cell_type": "code",
   "execution_count": 52,
   "metadata": {},
   "outputs": [],
   "source": [
    "class Aviao():\n",
    "    \n",
    "    _cor = None\n",
    "    _capacidade = None\n",
    "    _origem = None\n",
    "    \n",
    "    def __init__(self, cor, capacidade, origem):\n",
    "        self._cor = cor\n",
    "        self._capacidade = capacidade\n",
    "        self._origem = origem\n",
    "    \n",
    "    def calcular_consumo(self):\n",
    "        return self._capacidade * 0.3"
   ]
  },
  {
   "cell_type": "code",
   "execution_count": 53,
   "metadata": {},
   "outputs": [],
   "source": [
    "# instancia (objeto) aviao_do_lucio da Classe AVIAO com os atributos definidos\n",
    "aviao_do_lucio = Aviao('azul', 800, 'TAM')\n",
    "aviao_do_joao = Aviao('vermelho', 1200, 'GOL')"
   ]
  },
  {
   "cell_type": "code",
   "execution_count": 54,
   "metadata": {},
   "outputs": [
    {
     "data": {
      "text/plain": [
       "240.0"
      ]
     },
     "execution_count": 54,
     "metadata": {},
     "output_type": "execute_result"
    }
   ],
   "source": [
    "aviao_do_lucio.calcular_consumo()"
   ]
  },
  {
   "cell_type": "code",
   "execution_count": 55,
   "metadata": {},
   "outputs": [
    {
     "data": {
      "text/plain": [
       "360.0"
      ]
     },
     "execution_count": 55,
     "metadata": {},
     "output_type": "execute_result"
    }
   ],
   "source": [
    "aviao_do_joao.calcular_consumo()"
   ]
  },
  {
   "cell_type": "code",
   "execution_count": 57,
   "metadata": {},
   "outputs": [],
   "source": [
    "class AviaoEconomico(Aviao):\n",
    "    \n",
    "    # polimorfismo\n",
    "    def calcular_consumo(self):\n",
    "        return self._capacidade * 0.2\n",
    "    \n",
    "    def retornar_potencia(self):\n",
    "        return 20"
   ]
  },
  {
   "cell_type": "code",
   "execution_count": 58,
   "metadata": {},
   "outputs": [
    {
     "data": {
      "text/plain": [
       "160.0"
      ]
     },
     "execution_count": 58,
     "metadata": {},
     "output_type": "execute_result"
    }
   ],
   "source": [
    "aviao2_do_lucio = AviaoEconomico('azul', 800, 'TAM')\n",
    "aviao2_do_lucio.calcular_consumo()"
   ]
  },
  {
   "cell_type": "code",
   "execution_count": 59,
   "metadata": {},
   "outputs": [
    {
     "data": {
      "text/plain": [
       "20"
      ]
     },
     "execution_count": 59,
     "metadata": {},
     "output_type": "execute_result"
    }
   ],
   "source": [
    "aviao2_do_lucio.retornar_potencia()"
   ]
  },
  {
   "cell_type": "code",
   "execution_count": 60,
   "metadata": {},
   "outputs": [],
   "source": [
    "class Calculadora():\n",
    "    \n",
    "    historico = []\n",
    "    op = None\n",
    "    \n",
    "    def setar_operacao(self, operacao):\n",
    "        self.op = operacao\n",
    "        \n",
    "    def calcular(self, x, y):\n",
    "        \n",
    "        if self.op is None:\n",
    "            return 'informe a operação antes'\n",
    "        \n",
    "        if self.op == '+':\n",
    "            resultado = x + y\n",
    "        elif self.op == '-':\n",
    "            resultado = x - y\n",
    "        else:\n",
    "            resultado = 'invalido'\n",
    "            \n",
    "        self.historico.append(resultado)\n",
    "        \n",
    "        return resultado\n",
    "    \n",
    "#     def somar(self, x, y):\n",
    "#         return x + y\n",
    "#     def subtrair(self, x, y):\n",
    "#         return x - y"
   ]
  },
  {
   "cell_type": "code",
   "execution_count": 61,
   "metadata": {},
   "outputs": [],
   "source": [
    "minha_calculadora = Calculadora()"
   ]
  },
  {
   "cell_type": "code",
   "execution_count": 62,
   "metadata": {},
   "outputs": [
    {
     "data": {
      "text/plain": [
       "5"
      ]
     },
     "execution_count": 62,
     "metadata": {},
     "output_type": "execute_result"
    }
   ],
   "source": [
    "minha_calculadora.setar_operacao('+')\n",
    "minha_calculadora.calcular(2,3)"
   ]
  },
  {
   "cell_type": "code",
   "execution_count": 63,
   "metadata": {},
   "outputs": [
    {
     "data": {
      "text/plain": [
       "2"
      ]
     },
     "execution_count": 63,
     "metadata": {},
     "output_type": "execute_result"
    }
   ],
   "source": [
    "minha_calculadora.setar_operacao('-')\n",
    "minha_calculadora.calcular(7,5)"
   ]
  },
  {
   "cell_type": "code",
   "execution_count": 64,
   "metadata": {},
   "outputs": [
    {
     "data": {
      "text/plain": [
       "[5, 2]"
      ]
     },
     "execution_count": 64,
     "metadata": {},
     "output_type": "execute_result"
    }
   ],
   "source": [
    "minha_calculadora.historico"
   ]
  },
  {
   "cell_type": "code",
   "execution_count": 65,
   "metadata": {},
   "outputs": [],
   "source": [
    "calc2 = Calculadora()"
   ]
  },
  {
   "cell_type": "code",
   "execution_count": 66,
   "metadata": {},
   "outputs": [
    {
     "data": {
      "text/plain": [
       "'informe a operação antes'"
      ]
     },
     "execution_count": 66,
     "metadata": {},
     "output_type": "execute_result"
    }
   ],
   "source": [
    "calc2.calcular(7,5)"
   ]
  },
  {
   "cell_type": "code",
   "execution_count": null,
   "metadata": {},
   "outputs": [],
   "source": []
  }
 ],
 "metadata": {
  "kernelspec": {
   "display_name": "Python 3",
   "language": "python",
   "name": "python3"
  },
  "language_info": {
   "codemirror_mode": {
    "name": "ipython",
    "version": 3
   },
   "file_extension": ".py",
   "mimetype": "text/x-python",
   "name": "python",
   "nbconvert_exporter": "python",
   "pygments_lexer": "ipython3",
   "version": "3.7.3"
  }
 },
 "nbformat": 4,
 "nbformat_minor": 2
}
