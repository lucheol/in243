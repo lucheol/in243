{
 "cells": [
  {
   "cell_type": "code",
   "execution_count": 8,
   "metadata": {},
   "outputs": [],
   "source": [
    "# FEATURES, LABELS e TREINO\n",
    "\n",
    "# Tem pelo longo?\n",
    "# focinho longo?\n",
    "# faz au au?\n",
    "\n",
    "pig_1 = [0, 1, 0]\n",
    "pig_2 = [0, 1, 1]\n",
    "pig_3 = [1, 1, 0]\n",
    "\n",
    "\n",
    "dog_1 = [0, 1, 1]\n",
    "dog_2 = [1, 0, 1]\n",
    "dog_3 = [1, 1, 1]\n",
    "\n",
    "# f(x) = y\n",
    "# 1 -> pig, 0 -> dog\n",
    "treino_x = [pig_1, pig_2, pig_3, dog_1, dog_2, dog_3]\n",
    "treino_y = [1, 1, 1, 0, 0, 0] #label"
   ]
  },
  {
   "cell_type": "code",
   "execution_count": 6,
   "metadata": {},
   "outputs": [],
   "source": [
    "from sklearn.svm import LinearSVC"
   ]
  },
  {
   "cell_type": "code",
   "execution_count": 9,
   "metadata": {},
   "outputs": [
    {
     "data": {
      "text/plain": [
       "LinearSVC(C=1.0, class_weight=None, dual=True, fit_intercept=True,\n",
       "          intercept_scaling=1, loss='squared_hinge', max_iter=1000,\n",
       "          multi_class='ovr', penalty='l2', random_state=None, tol=0.0001,\n",
       "          verbose=0)"
      ]
     },
     "execution_count": 9,
     "metadata": {},
     "output_type": "execute_result"
    }
   ],
   "source": [
    "model = LinearSVC()\n",
    "model.fit(treino_x, treino_y)"
   ]
  },
  {
   "cell_type": "code",
   "execution_count": 10,
   "metadata": {},
   "outputs": [
    {
     "data": {
      "text/plain": [
       "array([0])"
      ]
     },
     "execution_count": 10,
     "metadata": {},
     "output_type": "execute_result"
    }
   ],
   "source": [
    "animal_1 = [1,1,1]\n",
    "model.predict([animal_1])"
   ]
  },
  {
   "cell_type": "code",
   "execution_count": 11,
   "metadata": {},
   "outputs": [],
   "source": [
    "animal_a = [1,1,1]\n",
    "animal_b = [1,1,0]\n",
    "animal_c = [0,1,1]\n",
    "\n",
    "teste_x = [animal_a, animal_b, animal_c]\n",
    "teste_y = [0, 1, 1]"
   ]
  },
  {
   "cell_type": "code",
   "execution_count": 13,
   "metadata": {},
   "outputs": [
    {
     "data": {
      "text/plain": [
       "array([0, 1, 0])"
      ]
     },
     "execution_count": 13,
     "metadata": {},
     "output_type": "execute_result"
    }
   ],
   "source": [
    "previsoes = model.predict(teste_x)\n",
    "previsoes"
   ]
  },
  {
   "cell_type": "code",
   "execution_count": 23,
   "metadata": {},
   "outputs": [
    {
     "name": "stdout",
     "output_type": "stream",
     "text": [
      "Taxa de acerto: 66.66666666666666%\n"
     ]
    }
   ],
   "source": [
    "# accuracy na mão\n",
    "corretos = (previsoes == teste_y).sum()\n",
    "total = len(teste_x)\n",
    "taxa_acerto = corretos/total\n",
    "print(f\"Taxa de acerto: {taxa_acerto*100}%\")"
   ]
  },
  {
   "cell_type": "code",
   "execution_count": 25,
   "metadata": {},
   "outputs": [
    {
     "name": "stdout",
     "output_type": "stream",
     "text": [
      "Taxa de acerto: 66.66666666666666%\n"
     ]
    }
   ],
   "source": [
    "# ACCURACY auto\n",
    "from sklearn.metrics import accuracy_score\n",
    "\n",
    "taxa_acerto = accuracy_score(teste_y, previsoes)\n",
    "print(f\"Taxa de acerto: {taxa_acerto*100}%\")"
   ]
  },
  {
   "cell_type": "code",
   "execution_count": 27,
   "metadata": {},
   "outputs": [
    {
     "data": {
      "text/plain": [
       "array([1])"
      ]
     },
     "execution_count": 27,
     "metadata": {},
     "output_type": "execute_result"
    }
   ],
   "source": [
    "model.predict([[0,0,0]])"
   ]
  },
  {
   "cell_type": "code",
   "execution_count": null,
   "metadata": {},
   "outputs": [],
   "source": []
  }
 ],
 "metadata": {
  "kernelspec": {
   "display_name": "Python 3",
   "language": "python",
   "name": "python3"
  },
  "language_info": {
   "codemirror_mode": {
    "name": "ipython",
    "version": 3
   },
   "file_extension": ".py",
   "mimetype": "text/x-python",
   "name": "python",
   "nbconvert_exporter": "python",
   "pygments_lexer": "ipython3",
   "version": "3.7.3"
  }
 },
 "nbformat": 4,
 "nbformat_minor": 2
}
